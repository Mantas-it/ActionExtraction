{
 "cells": [
  {
   "cell_type": "code",
   "execution_count": 71,
   "metadata": {},
   "outputs": [],
   "source": [
    "import pandas as pd\n",
    "from glob import glob\n",
    "import os\n",
    "from tqdm import tqdm"
   ]
  },
  {
   "cell_type": "code",
   "execution_count": null,
   "metadata": {},
   "outputs": [],
   "source": []
  },
  {
   "cell_type": "code",
   "execution_count": null,
   "metadata": {},
   "outputs": [],
   "source": []
  },
  {
   "cell_type": "code",
   "execution_count": 88,
   "metadata": {},
   "outputs": [
    {
     "data": {
      "text/plain": [
       "['F:/US_grants/Converted C07/original\\\\1971.csv',\n",
       " 'F:/US_grants/Converted C07/original\\\\1972.csv',\n",
       " 'F:/US_grants/Converted C07/original\\\\1973.csv',\n",
       " 'F:/US_grants/Converted C07/original\\\\1974.csv',\n",
       " 'F:/US_grants/Converted C07/original\\\\1975.csv',\n",
       " 'F:/US_grants/Converted C07/original\\\\1976.csv',\n",
       " 'F:/US_grants/Converted C07/original\\\\1977.csv',\n",
       " 'F:/US_grants/Converted C07/original\\\\1978.csv',\n",
       " 'F:/US_grants/Converted C07/original\\\\1979.csv',\n",
       " 'F:/US_grants/Converted C07/original\\\\1980.csv',\n",
       " 'F:/US_grants/Converted C07/original\\\\1981.csv',\n",
       " 'F:/US_grants/Converted C07/original\\\\1982.csv',\n",
       " 'F:/US_grants/Converted C07/original\\\\1983.csv',\n",
       " 'F:/US_grants/Converted C07/original\\\\1984.csv',\n",
       " 'F:/US_grants/Converted C07/original\\\\1985.csv',\n",
       " 'F:/US_grants/Converted C07/original\\\\1986.csv',\n",
       " 'F:/US_grants/Converted C07/original\\\\1987.csv',\n",
       " 'F:/US_grants/Converted C07/original\\\\1988.csv',\n",
       " 'F:/US_grants/Converted C07/original\\\\1989.csv',\n",
       " 'F:/US_grants/Converted C07/original\\\\1990.csv',\n",
       " 'F:/US_grants/Converted C07/original\\\\1991.csv',\n",
       " 'F:/US_grants/Converted C07/original\\\\1992.csv',\n",
       " 'F:/US_grants/Converted C07/original\\\\1993.csv',\n",
       " 'F:/US_grants/Converted C07/original\\\\1994.csv',\n",
       " 'F:/US_grants/Converted C07/original\\\\1995.csv',\n",
       " 'F:/US_grants/Converted C07/original\\\\1996.csv',\n",
       " 'F:/US_grants/Converted C07/original\\\\1997.csv',\n",
       " 'F:/US_grants/Converted C07/original\\\\1998.csv',\n",
       " 'F:/US_grants/Converted C07/original\\\\1999.csv',\n",
       " 'F:/US_grants/Converted C07/original\\\\2000.csv',\n",
       " 'F:/US_grants/Converted C07/original\\\\2001.csv']"
      ]
     },
     "execution_count": 88,
     "metadata": {},
     "output_type": "execute_result"
    }
   ],
   "source": [
    "listoffiles_temp = glob('F:/US_grants/Converted C07/original/*.csv')\n",
    "#listoffiles_temp = listoffiles_temp[5:6]\n",
    "listoffiles_temp"
   ]
  },
  {
   "cell_type": "code",
   "execution_count": 73,
   "metadata": {},
   "outputs": [
    {
     "data": {
      "text/plain": [
       "1976"
      ]
     },
     "execution_count": 73,
     "metadata": {},
     "output_type": "execute_result"
    }
   ],
   "source": [
    "int(listoffiles_temp[0][36:-4]) "
   ]
  },
  {
   "cell_type": "code",
   "execution_count": 89,
   "metadata": {},
   "outputs": [
    {
     "name": "stderr",
     "output_type": "stream",
     "text": [
      "896480it [00:20, 43860.83it/s]\n",
      "679900it [00:14, 45513.01it/s]\n",
      "484068it [00:11, 43805.81it/s]\n",
      "201396it [00:04, 43081.27it/s]\n",
      "293514it [00:06, 45735.37it/s]\n",
      "416156it [00:09, 42839.49it/s]\n",
      "366704it [00:08, 41650.73it/s]\n",
      "263120it [00:05, 46943.01it/s]\n",
      "347100it [00:08, 42702.20it/s]\n",
      "139973it [00:03, 40347.89it/s]\n",
      "344448it [00:07, 47644.33it/s]\n",
      "368368it [00:08, 41006.49it/s]\n",
      "196872it [00:04, 40816.18it/s]\n",
      "366080it [00:08, 43216.96it/s]\n",
      "401856it [00:08, 44659.71it/s]\n",
      "614270it [00:14, 41649.94it/s]\n",
      "562588it [00:13, 42018.06it/s]\n",
      "726128it [00:16, 42823.22it/s]\n",
      "856284it [00:20, 41492.13it/s]\n",
      "666380it [00:15, 41651.02it/s]\n",
      "682481it [00:15, 44759.10it/s]\n",
      "1065896it [00:49, 21628.77it/s]\n",
      "1171664it [00:53, 21883.86it/s]\n",
      "1734980it [01:18, 22178.74it/s]\n",
      "1015716it [00:47, 21394.90it/s]\n",
      "911976it [00:21, 42721.21it/s]\n"
     ]
    }
   ],
   "source": [
    "for d, file in enumerate(listoffiles_temp):\n",
    "    data = pd.read_table(listoffiles_temp[d], sep='\\t',header=0,names=[\"PatentNumber\",'PatentYear', \"Paragraph\"],converters = {'PatentNumber' : str,'PatentYear' : str,'Paragraph':str})\n",
    "    #print(len(data))\n",
    "    #print(int(listoffiles_temp[d][36:-4]))\n",
    "    \n",
    "    for i,par in enumerate(data['Paragraph']):\n",
    "        par = par.replace('&lt;','<')\n",
    "        par = par.replace('&gt;','>')\n",
    "        par = par.replace('.sub.','')\n",
    "        par = par.replace('.sup.','')\n",
    "        par = par.replace('.degree.','°')\n",
    "        par = par.replace('.alpha.','α')\n",
    "        par = par.replace('.beta.','β')\n",
    "        par = par.replace('.nu.','ν')\n",
    "        par = par.replace('.delta.','δ')\n",
    "        par = par.replace('.gamma.','γ')\n",
    "        par = par.replace('.epsilon.','ϵ')\n",
    "        par = par.replace('.lambda.','λ')\n",
    "        par = par.replace('.mu.','μ')\n",
    "        par = par.replace('.omega.','ω')\n",
    "        par = par.replace('.times.','x')\n",
    "        par = par.replace('.theta.','θ')\n",
    "        par = par.replace('.tau.','τ')\n",
    "        par = par.replace('.upsilon.','υ')\n",
    "        par = par.replace('.zeta.','ζ')\n",
    "        \n",
    "        data.at[i,'Paragraph'] = par\n",
    "    \n",
    "    PAT = []\n",
    "    PATY = []\n",
    "    PAR = []\n",
    "    \n",
    "    if int(listoffiles_temp[d][36:-4])  < 1976:\n",
    "        for i,par in enumerate(data['Paragraph']):\n",
    "            fnd_indexes = [z for z, j in enumerate(list(par.split(' '))) if j == 'CLMS']\n",
    "            par_split = list(par.split(' '))\n",
    "            if fnd_indexes != []:\n",
    "                for idx in range(0,len(fnd_indexes)+1):\n",
    "                    #print(fnd_indexes)\n",
    "                    if idx == 0:\n",
    "                        #print(\" \".join(par_split[:fnd_indexes[idx]]))\n",
    "                        PAT.append(data.at[i,'PatentNumber'])\n",
    "                        PATY.append(data.at[i,'PatentYear'])\n",
    "                        PAR.append(\" \".join(par_split[:fnd_indexes[idx]]))\n",
    "                        continue\n",
    "                    if idx < len(fnd_indexes):\n",
    "                        #print(\" \".join(par_split[fnd_indexes[idx-1]:fnd_indexes[idx]]))\n",
    "                        PAT.append(data.at[i,'PatentNumber'])\n",
    "                        PATY.append(data.at[i,'PatentYear'])\n",
    "                        PAR.append(\" \".join(par_split[fnd_indexes[idx-1]:fnd_indexes[idx]]))\n",
    "                        continue\n",
    "                    if idx == len(fnd_indexes):\n",
    "                        #print(\" \".join(par_split[fnd_indexes[idx-1]:]))\n",
    "                        PAT.append(data.at[i,'PatentNumber'])\n",
    "                        PATY.append(data.at[i,'PatentYear'])\n",
    "                        PAR.append(\" \".join(par_split[fnd_indexes[idx-1]:]))\n",
    "                        continue\n",
    "            PAT.append(data.at[i,'PatentNumber'])\n",
    "            PATY.append(data.at[i,'PatentYear'])\n",
    "            PAR.append(par)\n",
    "             \n",
    "        dicte = {'PatentNumber': PAT, 'PatentYear': PATY, 'Paragraph': PAR} \n",
    "        data  = pd.DataFrame(dicte)\n",
    "    \n",
    "    PAT = []\n",
    "    PATY = []\n",
    "    PAR = []\n",
    "    \n",
    "    if int(listoffiles_temp[d][36:-4]) < 1976:\n",
    "        for i,par in enumerate(data['Paragraph']):\n",
    "            fnd_indexes = [z for z, j in enumerate(list(par.split(' '))) if j == 'BSTL']\n",
    "            par_split = list(par.split(' '))\n",
    "            if fnd_indexes != []:\n",
    "                for idx in range(0,len(fnd_indexes)+1):\n",
    "                    #print(fnd_indexes)\n",
    "                    if idx == 0:\n",
    "                        #print(\" \".join(par_split[:fnd_indexes[idx]]))\n",
    "                        PAT.append(data.at[i,'PatentNumber'])\n",
    "                        PATY.append(data.at[i,'PatentYear'])\n",
    "                        PAR.append(\" \".join(par_split[:fnd_indexes[idx]]))\n",
    "                        continue\n",
    "                    if idx < len(fnd_indexes):\n",
    "                        #print(\" \".join(par_split[fnd_indexes[idx-1]:fnd_indexes[idx]]))\n",
    "                        PAT.append(data.at[i,'PatentNumber'])\n",
    "                        PATY.append(data.at[i,'PatentYear'])\n",
    "                        PAR.append(\" \".join(par_split[fnd_indexes[idx-1]:fnd_indexes[idx]]))\n",
    "                        continue\n",
    "                    if idx == len(fnd_indexes):\n",
    "                        #print(\" \".join(par_split[fnd_indexes[idx-1]:]))\n",
    "                        PAT.append(data.at[i,'PatentNumber'])\n",
    "                        PATY.append(data.at[i,'PatentYear'])\n",
    "                        PAR.append(\" \".join(par_split[fnd_indexes[idx-1]:]))\n",
    "                        continue\n",
    "            PAT.append(data.at[i,'PatentNumber'])\n",
    "            PATY.append(data.at[i,'PatentYear'])\n",
    "            PAR.append(par)\n",
    "             \n",
    "        dicte = {'PatentNumber': PAT, 'PatentYear': PATY, 'Paragraph': PAR} \n",
    "        data  = pd.DataFrame(dicte)\n",
    "    \n",
    "    PAT = []\n",
    "    PATY = []\n",
    "    PAR = []\n",
    "    \n",
    "    if int(listoffiles_temp[d][36:-4]) < 1976:\n",
    "        for i,par in enumerate(data['Paragraph']):\n",
    "            fnd_indexes = [z for z, j in enumerate(list(par.split(' '))) if j == 'EXAMPLE']\n",
    "            par_split = list(par.split(' '))\n",
    "            if fnd_indexes != []:\n",
    "                for idx in range(0,len(fnd_indexes)+1):\n",
    "                    #print(fnd_indexes)\n",
    "                    if idx == 0:\n",
    "                        #print(\" \".join(par_split[:fnd_indexes[idx]]))\n",
    "                        PAT.append(data.at[i,'PatentNumber'])\n",
    "                        PATY.append(data.at[i,'PatentYear'])\n",
    "                        PAR.append(\" \".join(par_split[:fnd_indexes[idx]]))\n",
    "                        continue\n",
    "                    if idx < len(fnd_indexes):\n",
    "                        #print(\" \".join(par_split[fnd_indexes[idx-1]:fnd_indexes[idx]]))\n",
    "                        PAT.append(data.at[i,'PatentNumber'])\n",
    "                        PATY.append(data.at[i,'PatentYear'])\n",
    "                        PAR.append(\" \".join(par_split[fnd_indexes[idx-1]:fnd_indexes[idx]]))\n",
    "                        continue\n",
    "                    if idx == len(fnd_indexes):\n",
    "                        #print(\" \".join(par_split[fnd_indexes[idx-1]:]))\n",
    "                        PAT.append(data.at[i,'PatentNumber'])\n",
    "                        PATY.append(data.at[i,'PatentYear'])\n",
    "                        PAR.append(\" \".join(par_split[fnd_indexes[idx-1]:]))\n",
    "                        continue\n",
    "            PAT.append(data.at[i,'PatentNumber'])\n",
    "            PATY.append(data.at[i,'PatentYear'])\n",
    "            PAR.append(par)\n",
    "             \n",
    "        dicte = {'PatentNumber': PAT, 'PatentYear': PATY, 'Paragraph': PAR} \n",
    "        data  = pd.DataFrame(dicte)\n",
    "    \n",
    "    PAT = []\n",
    "    PATY = []\n",
    "    PAR = []\n",
    "    \n",
    "    if int(listoffiles_temp[d][36:-4]) >= 1976:\n",
    "        for i,par in tqdm(enumerate(data['Paragraph'])):\n",
    "            #print(data.at[i,'Paragraph'])\n",
    "            fnd_indexes = [z for z, j in enumerate(list(par.split(' '))) if j == 'PAC']\n",
    "            par_split = list(par.split(' '))\n",
    "            if fnd_indexes != []:\n",
    "                for idx in range(0,len(fnd_indexes)+1):\n",
    "                    #print(fnd_indexes)\n",
    "                    if idx == 0:\n",
    "                        #print(\" \".join(par_split[:fnd_indexes[idx]]))\n",
    "                        PAT.append(data.at[i,'PatentNumber'])\n",
    "                        PATY.append(data.at[i,'PatentYear'])\n",
    "                        PAR.append(\" \".join(par_split[:fnd_indexes[idx]]))\n",
    "                        continue\n",
    "                    if idx < len(fnd_indexes):\n",
    "                        #print(\" \".join(par_split[fnd_indexes[idx-1]:fnd_indexes[idx]]))\n",
    "                        PAT.append(data.at[i,'PatentNumber'])\n",
    "                        PATY.append(data.at[i,'PatentYear'])\n",
    "                        PAR.append(\" \".join(par_split[fnd_indexes[idx-1]:fnd_indexes[idx]]))\n",
    "                        continue\n",
    "                    if idx == len(fnd_indexes):\n",
    "                        #print(\" \".join(par_split[fnd_indexes[idx-1]:]))\n",
    "                        PAT.append(data.at[i,'PatentNumber'])\n",
    "                        PATY.append(data.at[i,'PatentYear'])\n",
    "                        PAR.append(\" \".join(par_split[fnd_indexes[idx-1]:]))\n",
    "                        continue\n",
    "            if fnd_indexes == []:            \n",
    "                PAT.append(data.at[i,'PatentNumber'])\n",
    "                PATY.append(data.at[i,'PatentYear'])\n",
    "                PAR.append(par)\n",
    "             \n",
    "        dicte = {'PatentNumber': PAT, 'PatentYear': PATY, 'Paragraph': PAR} \n",
    "        data  = pd.DataFrame(dicte)\n",
    "    \n",
    "    \n",
    "    \n",
    "    \n",
    "    \n",
    "    \n",
    "    \n",
    "    \n",
    "    \n",
    "    \n",
    "    data.to_csv(listoffiles_temp[d][:-4] + '_cleaned.csv',sep='\\t',index=False) "
   ]
  },
  {
   "cell_type": "code",
   "execution_count": 78,
   "metadata": {},
   "outputs": [
    {
     "data": {
      "text/html": [
       "<div>\n",
       "<style scoped>\n",
       "    .dataframe tbody tr th:only-of-type {\n",
       "        vertical-align: middle;\n",
       "    }\n",
       "\n",
       "    .dataframe tbody tr th {\n",
       "        vertical-align: top;\n",
       "    }\n",
       "\n",
       "    .dataframe thead th {\n",
       "        text-align: right;\n",
       "    }\n",
       "</style>\n",
       "<table border=\"1\" class=\"dataframe\">\n",
       "  <thead>\n",
       "    <tr style=\"text-align: right;\">\n",
       "      <th></th>\n",
       "      <th>PatentNumber</th>\n",
       "      <th>PatentYear</th>\n",
       "      <th>Paragraph</th>\n",
       "    </tr>\n",
       "  </thead>\n",
       "  <tbody>\n",
       "    <tr>\n",
       "      <th>0</th>\n",
       "      <td>03930944</td>\n",
       "      <td>1976-01-06</td>\n",
       "      <td>Urokinase has been known since about 1951 as a...</td>\n",
       "    </tr>\n",
       "  </tbody>\n",
       "</table>\n",
       "</div>"
      ],
      "text/plain": [
       "  PatentNumber  PatentYear                                          Paragraph\n",
       "0     03930944  1976-01-06  Urokinase has been known since about 1951 as a..."
      ]
     },
     "execution_count": 78,
     "metadata": {},
     "output_type": "execute_result"
    }
   ],
   "source": [
    "data"
   ]
  },
  {
   "cell_type": "code",
   "execution_count": 61,
   "metadata": {},
   "outputs": [
    {
     "data": {
      "text/plain": [
       "True"
      ]
     },
     "execution_count": 61,
     "metadata": {},
     "output_type": "execute_result"
    }
   ],
   "source": [
    "int(listoffiles_temp[d][36:-4]) >= 1976"
   ]
  },
  {
   "cell_type": "code",
   "execution_count": 28,
   "metadata": {},
   "outputs": [
    {
     "data": {
      "text/plain": [
       "'d d d'"
      ]
     },
     "execution_count": 28,
     "metadata": {},
     "output_type": "execute_result"
    }
   ],
   "source": [
    "par = 'd d d d d CLMS r r r r r'\n",
    "par[:fnd_indexes[idx]]"
   ]
  },
  {
   "cell_type": "code",
   "execution_count": 85,
   "metadata": {},
   "outputs": [
    {
     "name": "stdout",
     "output_type": "stream",
     "text": [
      "A mixture of 2,6-difluoropyridine (20.2 grams; 0.175 mole) and dry sodium p-nitrophenate (28.2 grams; 0.175 mole) in 130 ml. of dry dimethylsulfoxide was heated at a temperature of about 110°C. for a period of about 4 hours. Following the completion of the reaction period, the reaction mixture was cooled, poured into 325 ml. of cold water and allowed to stand for a few minutes. The resulting crystallized product was recovered by filtration and recrystallized from a 50:50 benzene-hexane mixture. The desired 2-fluoro-6(4-nitrophenoxy)pyridine intermediate (19.1 grams; 0.018 mole) which was obtained as a crystalline solid melting at 104°-105°C. and iron powder (15 grams; 0.268 mole) were mixed in 115 ml. of 50 % aqueous ethanol and the resulting reaction mixture heated at the reflux temperature thereof. Concentrated hydrochloric acid (5.5 ml. in 20 ml. of 50% ethanol) was added thereto, portionwise, with vigorous stirring over a period of about  15 minutes. The reaction mixture was then refluxed for a period of 3 hours, cooled, poured into water and neutralized with an aqueous sodium hydroxide solution. The resulting solid cake was recovered by filtration and extracted with two 300 ml. portions of benzene. The extracts were combined and treated with activated charcoal, filtered, and the filtrate evaporated to obtain the desired 4-((6-fluoro-2-pyridinyl)oxy)benzenamine product as a white crystalline solid having carbon, hydrogen and nitrogen contents of 65.2, 4.6 and 13.9 percent, respectively, as compared with contents of 64.8, 4.4 and 13.7 percent, respectively, calculated for the named structure.\n",
      "PAC  EXAMPLE 6\n",
      "PAC  4-((6-chloro-2-pyridinyl)oxy)phenyl isocyanate \n"
     ]
    }
   ],
   "source": [
    "par = 'A mixture of 2,6-difluoropyridine (20.2 grams; 0.175 mole) and dry sodium p-nitrophenate (28.2 grams; 0.175 mole) in 130 ml. of dry dimethylsulfoxide was heated at a temperature of about 110°C. for a period of about 4 hours. Following the completion of the reaction period, the reaction mixture was cooled, poured into 325 ml. of cold water and allowed to stand for a few minutes. The resulting crystallized product was recovered by filtration and recrystallized from a 50:50 benzene-hexane mixture. The desired 2-fluoro-6(4-nitrophenoxy)pyridine intermediate (19.1 grams; 0.018 mole) which was obtained as a crystalline solid melting at 104°-105°C. and iron powder (15 grams; 0.268 mole) were mixed in 115 ml. of 50 % aqueous ethanol and the resulting reaction mixture heated at the reflux temperature thereof. Concentrated hydrochloric acid (5.5 ml. in 20 ml. of 50% ethanol) was added thereto, portionwise, with vigorous stirring over a period of about  15 minutes. The reaction mixture was then refluxed for a period of 3 hours, cooled, poured into water and neutralized with an aqueous sodium hydroxide solution. The resulting solid cake was recovered by filtration and extracted with two 300 ml. portions of benzene. The extracts were combined and treated with activated charcoal, filtered, and the filtrate evaporated to obtain the desired 4-((6-fluoro-2-pyridinyl)oxy)benzenamine product as a white crystalline solid having carbon, hydrogen and nitrogen contents of 65.2, 4.6 and 13.9 percent, respectively, as compared with contents of 64.8, 4.4 and 13.7 percent, respectively, calculated for the named structure. PAC  EXAMPLE 6 PAC  4-((6-chloro-2-pyridinyl)oxy)phenyl isocyanate '\n",
    "\n",
    "par_split = list(par.split(' '))\n",
    "fnd_indexes = [z for z, j in enumerate(list(par.split(' '))) if j == 'PAC']\n",
    "if fnd_indexes != []:\n",
    "    for idx in range(0,len(fnd_indexes)+1):\n",
    "        #print(fnd_indexes)\n",
    "        if idx == 0:\n",
    "            print(\" \".join(par_split[:fnd_indexes[idx]]))\n",
    "            continue\n",
    "        if idx < len(fnd_indexes):\n",
    "            print(\" \".join(par_split[fnd_indexes[idx-1]:fnd_indexes[idx]]))\n",
    "            continue\n",
    "        if idx == len(fnd_indexes):\n",
    "            print(\" \".join(par_split[fnd_indexes[idx-1]:]))\n",
    "            continue"
   ]
  },
  {
   "cell_type": "code",
   "execution_count": null,
   "metadata": {},
   "outputs": [],
   "source": []
  },
  {
   "cell_type": "code",
   "execution_count": 12,
   "metadata": {},
   "outputs": [
    {
     "data": {
      "text/html": [
       "<div>\n",
       "<style scoped>\n",
       "    .dataframe tbody tr th:only-of-type {\n",
       "        vertical-align: middle;\n",
       "    }\n",
       "\n",
       "    .dataframe tbody tr th {\n",
       "        vertical-align: top;\n",
       "    }\n",
       "\n",
       "    .dataframe thead th {\n",
       "        text-align: right;\n",
       "    }\n",
       "</style>\n",
       "<table border=\"1\" class=\"dataframe\">\n",
       "  <thead>\n",
       "    <tr style=\"text-align: right;\">\n",
       "      <th></th>\n",
       "      <th>PatentNumber</th>\n",
       "      <th>PatentYear</th>\n",
       "      <th>Paragraph</th>\n",
       "    </tr>\n",
       "  </thead>\n",
       "  <tbody>\n",
       "    <tr>\n",
       "      <th>0</th>\n",
       "      <td>03632446</td>\n",
       "      <td>1972-01-04</td>\n",
       "      <td>In many applications of sugar, it is highly de...</td>\n",
       "    </tr>\n",
       "    <tr>\n",
       "      <th>1</th>\n",
       "      <td>03632446</td>\n",
       "      <td>1972-01-04</td>\n",
       "      <td>Heretofore in preparing such sugar solutions i...</td>\n",
       "    </tr>\n",
       "    <tr>\n",
       "      <th>2</th>\n",
       "      <td>03632446</td>\n",
       "      <td>1972-01-04</td>\n",
       "      <td>In inverting sugar it is important to provide ...</td>\n",
       "    </tr>\n",
       "    <tr>\n",
       "      <th>3</th>\n",
       "      <td>03632446</td>\n",
       "      <td>1972-01-04</td>\n",
       "      <td>Thus, an object of the present invention is to...</td>\n",
       "    </tr>\n",
       "    <tr>\n",
       "      <th>4</th>\n",
       "      <td>03632446</td>\n",
       "      <td>1972-01-04</td>\n",
       "      <td>Another object of this invention is to provide...</td>\n",
       "    </tr>\n",
       "    <tr>\n",
       "      <th>...</th>\n",
       "      <td>...</td>\n",
       "      <td>...</td>\n",
       "      <td>...</td>\n",
       "    </tr>\n",
       "    <tr>\n",
       "      <th>128470</th>\n",
       "      <td>03707557</td>\n",
       "      <td>1972-12-26</td>\n",
       "      <td>3. A compound of claim 1 wherein R1 is hydroge...</td>\n",
       "    </tr>\n",
       "    <tr>\n",
       "      <th>128471</th>\n",
       "      <td>03707557</td>\n",
       "      <td>1972-12-26</td>\n",
       "      <td>4. A compound of claim 2 wherein X is hydrogen...</td>\n",
       "    </tr>\n",
       "    <tr>\n",
       "      <th>128472</th>\n",
       "      <td>03707557</td>\n",
       "      <td>1972-12-26</td>\n",
       "      <td>5. A compound of claim 1 wherein the halogens ...</td>\n",
       "    </tr>\n",
       "    <tr>\n",
       "      <th>128473</th>\n",
       "      <td>03707557</td>\n",
       "      <td>1972-12-26</td>\n",
       "      <td>6. A compound of claim 1 wherein R1 is hydroge...</td>\n",
       "    </tr>\n",
       "    <tr>\n",
       "      <th>128474</th>\n",
       "      <td>03707557</td>\n",
       "      <td>1972-12-26</td>\n",
       "      <td>7. A compound of claim 6 wherein m is 1, R1 an...</td>\n",
       "    </tr>\n",
       "  </tbody>\n",
       "</table>\n",
       "<p>128475 rows × 3 columns</p>\n",
       "</div>"
      ],
      "text/plain": [
       "       PatentNumber  PatentYear  \\\n",
       "0          03632446  1972-01-04   \n",
       "1          03632446  1972-01-04   \n",
       "2          03632446  1972-01-04   \n",
       "3          03632446  1972-01-04   \n",
       "4          03632446  1972-01-04   \n",
       "...             ...         ...   \n",
       "128470     03707557  1972-12-26   \n",
       "128471     03707557  1972-12-26   \n",
       "128472     03707557  1972-12-26   \n",
       "128473     03707557  1972-12-26   \n",
       "128474     03707557  1972-12-26   \n",
       "\n",
       "                                                Paragraph  \n",
       "0       In many applications of sugar, it is highly de...  \n",
       "1       Heretofore in preparing such sugar solutions i...  \n",
       "2       In inverting sugar it is important to provide ...  \n",
       "3       Thus, an object of the present invention is to...  \n",
       "4       Another object of this invention is to provide...  \n",
       "...                                                   ...  \n",
       "128470  3. A compound of claim 1 wherein R1 is hydroge...  \n",
       "128471  4. A compound of claim 2 wherein X is hydrogen...  \n",
       "128472  5. A compound of claim 1 wherein the halogens ...  \n",
       "128473  6. A compound of claim 1 wherein R1 is hydroge...  \n",
       "128474  7. A compound of claim 6 wherein m is 1, R1 an...  \n",
       "\n",
       "[128475 rows x 3 columns]"
      ]
     },
     "execution_count": 12,
     "metadata": {},
     "output_type": "execute_result"
    }
   ],
   "source": [
    "data"
   ]
  },
  {
   "cell_type": "code",
   "execution_count": 14,
   "metadata": {},
   "outputs": [],
   "source": []
  },
  {
   "cell_type": "code",
   "execution_count": null,
   "metadata": {},
   "outputs": [],
   "source": [
    "data.to_csv()"
   ]
  },
  {
   "cell_type": "code",
   "execution_count": null,
   "metadata": {},
   "outputs": [],
   "source": [
    "&lt;\n",
    "&gt;\n",
    ".sub.\n",
    ".sup.\n",
    ".degree."
   ]
  },
  {
   "cell_type": "code",
   "execution_count": 20,
   "metadata": {},
   "outputs": [
    {
     "data": {
      "text/plain": [
       "'F:/US_grants/Converted C07\\\\1972_cleaned.csv'"
      ]
     },
     "execution_count": 20,
     "metadata": {},
     "output_type": "execute_result"
    }
   ],
   "source": [
    "listoffiles_temp[1][:-4] + '_cleaned.csv'"
   ]
  },
  {
   "cell_type": "code",
   "execution_count": 21,
   "metadata": {},
   "outputs": [],
   "source": []
  },
  {
   "cell_type": "code",
   "execution_count": null,
   "metadata": {},
   "outputs": [],
   "source": []
  }
 ],
 "metadata": {
  "kernelspec": {
   "display_name": "Python 3",
   "language": "python",
   "name": "python3"
  },
  "language_info": {
   "codemirror_mode": {
    "name": "ipython",
    "version": 3
   },
   "file_extension": ".py",
   "mimetype": "text/x-python",
   "name": "python",
   "nbconvert_exporter": "python",
   "pygments_lexer": "ipython3",
   "version": "3.8.5"
  }
 },
 "nbformat": 4,
 "nbformat_minor": 4
}
